{
 "cells": [
  {
   "cell_type": "markdown",
   "metadata": {},
   "source": [
    "First model to classify titanic classifier"
   ]
  },
  {
   "cell_type": "markdown",
   "metadata": {},
   "source": [
    "### Reading data from file"
   ]
  },
  {
   "cell_type": "code",
   "execution_count": 1,
   "metadata": {},
   "outputs": [],
   "source": [
    "### Lendo os dados e separando o label\n",
    "import pandas as pd\n",
    "from sklearn.model_selection import train_test_split\n",
    "\n",
    "# Read the data\n",
    "X_full = pd.read_csv('input/train.csv', index_col='PassengerId') \n",
    "X_test = pd.read_csv('input/test.csv', index_col='PassengerId')\n",
    "X = X_full.copy()\n",
    "\n",
    "X.drop(['Cabin','Name','Ticket'], axis=1, inplace=True)\n",
    "X.drop( X[ X['Embarked'].isnull() ].index, axis=0, inplace=True)"
   ]
  },
  {
   "cell_type": "code",
   "execution_count": 2,
   "metadata": {},
   "outputs": [],
   "source": [
    "# Remove rows with missing target, separate target from predictors\n",
    "X.dropna(axis=0, subset=['Survived'], inplace=True)\n",
    "y = X.Survived\n",
    "X.drop(['Survived'], axis=1, inplace=True)"
   ]
  },
  {
   "cell_type": "code",
   "execution_count": null,
   "metadata": {},
   "outputs": [],
   "source": [
    "# X.shape"
   ]
  },
  {
   "cell_type": "code",
   "execution_count": null,
   "metadata": {},
   "outputs": [],
   "source": [
    "# y.shape"
   ]
  },
  {
   "cell_type": "markdown",
   "metadata": {},
   "source": [
    "### Inspecting data to get some insight"
   ]
  },
  {
   "cell_type": "code",
   "execution_count": null,
   "metadata": {},
   "outputs": [],
   "source": [
    "# X.head()"
   ]
  },
  {
   "cell_type": "code",
   "execution_count": null,
   "metadata": {},
   "outputs": [],
   "source": [
    "# X.tail()"
   ]
  },
  {
   "cell_type": "code",
   "execution_count": null,
   "metadata": {},
   "outputs": [],
   "source": [
    "# X.shape"
   ]
  },
  {
   "cell_type": "code",
   "execution_count": null,
   "metadata": {},
   "outputs": [],
   "source": [
    "# y.shape"
   ]
  },
  {
   "cell_type": "code",
   "execution_count": null,
   "metadata": {},
   "outputs": [],
   "source": [
    "# X.describe()"
   ]
  },
  {
   "cell_type": "code",
   "execution_count": null,
   "metadata": {},
   "outputs": [],
   "source": [
    "# X.info()"
   ]
  },
  {
   "cell_type": "code",
   "execution_count": null,
   "metadata": {},
   "outputs": [],
   "source": [
    "# X['Embarked'].unique()"
   ]
  },
  {
   "cell_type": "code",
   "execution_count": null,
   "metadata": {},
   "outputs": [],
   "source": [
    "# %matplotlib inline\n",
    "# import matplotlib.pyplot as plt\n",
    "# X.hist(bins=25,figsize=(20,15)) \n",
    "# plt.show()"
   ]
  },
  {
   "cell_type": "code",
   "execution_count": null,
   "metadata": {},
   "outputs": [],
   "source": [
    "# corr_matrix = X_full.corr()\n",
    "# corr_matrix['Survived'].sort_values(ascending=False)"
   ]
  },
  {
   "cell_type": "code",
   "execution_count": null,
   "metadata": {},
   "outputs": [],
   "source": [
    "# from pandas.plotting import scatter_matrix\n",
    "\n",
    "# attributes = ['Fare','Parch', 'Pclass'] #\n",
    "\n",
    "# scatter_matrix(X_full[attributes], figsize=(20,15))\n",
    "# plt.show()"
   ]
  },
  {
   "cell_type": "code",
   "execution_count": null,
   "metadata": {},
   "outputs": [],
   "source": [
    "# X_full.plot(kind='scatter', x='Fare', y='Survived', alpha=0.1)\n",
    "# plt.show()"
   ]
  },
  {
   "cell_type": "markdown",
   "metadata": {},
   "source": [
    "### So far I have not gained any insights from the data. I'll get rid of the Cabin feature which has tons of missing data and I'll imput the missing data in Age and Embarked features"
   ]
  },
  {
   "cell_type": "code",
   "execution_count": null,
   "metadata": {},
   "outputs": [],
   "source": [
    "# Nothing that worked. I've done part of the missing variable treatment above\n",
    "\n",
    "# X.Embarked.isnull() \n",
    "# pd.isnull(X['Embarked'])\n",
    "# X['Embarked'].unique()\n",
    "# X['Embarked'].value_counts()\n",
    "# X.drop()\n",
    "# X.index\n",
    "# X.drop(X['Embarked'].isnull(),axis=1,inplace=True)\n",
    "\n",
    "# print(X_full[X_full['Embarked'].isnull()])\n",
    "# 62 e 830\n",
    "# X.loc[[62,830]] # por label\n",
    "# X.iloc[829] # por índice\n",
    "# X_drop = X.drop(X.loc[[62,830]], axis=0)\n",
    "# X.drop(['Cabin'], axis=1, inplace=True)\n",
    "# X.drop([62,830], axis=0, inplace=True)\n",
    "# y.drop([62,830], axis=0, inplace=True)\n",
    "\n",
    "\n",
    "# Maybe I should drop lines before dropping y, above.\n",
    "\n",
    "# X.drop(['Cabin'], axis=1, inplace=True)\n",
    "# X.drop( X[ X['Embarked'].isnull() ].index, axis=0, inplace=True)\n",
    "# y.drop([62,830], axis=0, inplace=True)"
   ]
  },
  {
   "cell_type": "code",
   "execution_count": null,
   "metadata": {},
   "outputs": [],
   "source": [
    "# X.shape"
   ]
  },
  {
   "cell_type": "code",
   "execution_count": null,
   "metadata": {},
   "outputs": [],
   "source": [
    "# X.head()"
   ]
  },
  {
   "cell_type": "markdown",
   "metadata": {},
   "source": [
    "### General transformation in data"
   ]
  },
  {
   "cell_type": "code",
   "execution_count": 3,
   "metadata": {},
   "outputs": [],
   "source": [
    "X['Pclass'] = X['Pclass'].astype('category')\n",
    "X_test['Pclass'] = X_test['Pclass'].astype('category')"
   ]
  },
  {
   "cell_type": "code",
   "execution_count": null,
   "metadata": {},
   "outputs": [],
   "source": [
    "# X.info()"
   ]
  },
  {
   "cell_type": "code",
   "execution_count": 4,
   "metadata": {},
   "outputs": [],
   "source": [
    "# X[ X['Parch'].isnull() ].index\n",
    "# X['Parch'].isnull() \n",
    "# X['Ratio_childern_parents'] = X['SibSp'] / X['Parch']\n",
    "# Z = X['SibSp'] / X['Parch']\n",
    "# pd.isnull(X['Parch'])\n",
    "# X['Parch'].unique()\n",
    "# X['SibSp'].unique()\n",
    "# X[ (X['Parch']==0) & (X['SibSp'] == 0)]\n",
    "# X[ (X['SibSp'] ==0) ]\n",
    "# X[ X['Parch'] == 0 ]\n",
    "# X['Age'].unique()\n",
    "\n",
    "\n",
    "def alone(row):\n",
    "    if row['SibSp'] == 0 and row['Parch'] == 0:\n",
    "        val = 1\n",
    "    else:\n",
    "        val = 0\n",
    "    return val\n",
    "\n",
    "def noParents(row):\n",
    "    if row['Parch'] == 0:\n",
    "        val = 1\n",
    "    else:\n",
    "        val = 0\n",
    "    return val\n",
    "\n",
    "def childPerParents(row):\n",
    "    if row['Parch'] == 0:\n",
    "        val = 0\n",
    "    else:\n",
    "        val = row['SibSp']/row['Parch']\n",
    "    return val\n",
    "        \n",
    "# New column for people traveling alone\n",
    "X['Alone'] = X.apply(alone, axis=1)\n",
    "X_test['Alone'] = X_test.apply(alone, axis=1)\n",
    "\n",
    "# New column for parents/no parents\n",
    "X['NoParents'] = X.apply(noParents, axis=1)\n",
    "X_test['NoParents'] = X_test.apply(noParents, axis=1)\n",
    "\n",
    "X['ChildPerParent'] = X.apply(childPerParents, axis=1)\n",
    "X_test['ChildPerParent'] = X_test.apply(childPerParents, axis=1)"
   ]
  },
  {
   "cell_type": "code",
   "execution_count": null,
   "metadata": {},
   "outputs": [],
   "source": [
    "# X.tail()\n",
    "# X['Age'].unique()\n",
    "# X.tail()\n",
    "# X.shape"
   ]
  },
  {
   "cell_type": "markdown",
   "metadata": {},
   "source": [
    "### Splitting the training data"
   ]
  },
  {
   "cell_type": "code",
   "execution_count": 5,
   "metadata": {},
   "outputs": [],
   "source": [
    "# Break off validation set from training data\n",
    "X_train, X_valid, y_train, y_valid = train_test_split(X, y, train_size=0.8, test_size=0.2)"
   ]
  },
  {
   "cell_type": "code",
   "execution_count": null,
   "metadata": {},
   "outputs": [],
   "source": [
    "# y_train.shape"
   ]
  },
  {
   "cell_type": "code",
   "execution_count": 6,
   "metadata": {},
   "outputs": [],
   "source": [
    "### Achando as colunas categóricas e numéricas\n",
    "categorical_cols = [cname for cname in X_train.columns if\n",
    "                    X_train[cname].nunique() < 10 and \n",
    "                    X_train[cname].dtype == \"object\"]\n",
    "\n",
    "\n",
    "# Select numerical columns\n",
    "numerical_cols = [cname for cname in X_train.columns if X_train[cname].dtype in ['int64', 'float64']]\n",
    "\n",
    "# Keep selected columns only\n",
    "# my_cols = categorical_cols + numerical_cols\n",
    "# X_train = X_train[my_cols].copy()\n",
    "# X_valid = X_valid[my_cols].copy()\n",
    "# X_test = X_test[my_cols].copy()"
   ]
  },
  {
   "cell_type": "code",
   "execution_count": null,
   "metadata": {},
   "outputs": [],
   "source": [
    "# Data columns (total 7 columns):\n",
    "#  #   Column    Non-Null Count  Dtype  \n",
    "# ---  ------    --------------  -----  \n",
    "#  0   Pclass    889 non-null    int64  \n",
    "#  1   Sex       889 non-null    object \n",
    "#  2   Age       712 non-null    float64\n",
    "#  3   SibSp     889 non-null    int64  \n",
    "#  4   Parch     889 non-null    int64  \n",
    "#  5   Fare      889 non-null    float64\n",
    "#  6   Embarked  889 non-null    object "
   ]
  },
  {
   "cell_type": "code",
   "execution_count": null,
   "metadata": {},
   "outputs": [],
   "source": [
    "# categorical_cols"
   ]
  },
  {
   "cell_type": "code",
   "execution_count": null,
   "metadata": {},
   "outputs": [],
   "source": [
    "# numerical_cols"
   ]
  },
  {
   "cell_type": "markdown",
   "metadata": {},
   "source": [
    "### Imputing missing data"
   ]
  },
  {
   "cell_type": "markdown",
   "metadata": {},
   "source": [
    "#### Numerical"
   ]
  },
  {
   "cell_type": "code",
   "execution_count": 7,
   "metadata": {},
   "outputs": [],
   "source": [
    "# Make copy to avoid changing original data (when imputing)\n",
    "num_X_train = X_train[numerical_cols].copy()\n",
    "num_X_valid = X_valid[numerical_cols].copy()\n",
    "num_X_test = X_test[numerical_cols].copy()\n",
    "\n",
    "from sklearn.impute import SimpleImputer\n",
    "numerical_transformer = SimpleImputer(strategy='median')\n",
    "\n",
    "num_X_train = pd.DataFrame(numerical_transformer.fit_transform(num_X_train), columns = num_X_train.columns)\n",
    "num_X_valid = pd.DataFrame(numerical_transformer.transform(num_X_valid), columns = num_X_valid.columns)\n",
    "num_X_test = pd.DataFrame(numerical_transformer.transform(num_X_test), columns = num_X_test.columns)\n",
    "\n",
    "num_X_train.index = X_train.index\n",
    "num_X_valid.index = X_valid.index\n",
    "num_X_test.index = X_test.index"
   ]
  },
  {
   "cell_type": "code",
   "execution_count": null,
   "metadata": {},
   "outputs": [],
   "source": [
    "# num_X_train['Age'].unique()\n",
    "# y_train.shape"
   ]
  },
  {
   "cell_type": "code",
   "execution_count": 8,
   "metadata": {},
   "outputs": [],
   "source": [
    "# z = list(X['Age'])\n",
    "# print(z)\n",
    "# X.loc[[889] , ['Age']]\n",
    "# z = X.at[888,'Age']\n",
    "# int(str(z)[-1:]) == 5\n",
    "# int(str(row['Age'])[-1:]) == 5\n",
    "import numpy as np\n",
    "\n",
    "def isAprox(row):\n",
    "    if int(str(row['Age'])[-1:]) == 5:\n",
    "        val = 1\n",
    "    else:\n",
    "        val = 0\n",
    "    return val\n",
    "\n",
    "num_X_train['IsAprox'] = num_X_train.apply(isAprox, axis=1)\n",
    "num_X_valid['IsAprox'] = num_X_valid.apply(isAprox, axis=1)\n",
    "num_X_test['IsAprox'] = num_X_test.apply(isAprox, axis=1)\n",
    "\n",
    "# X_test['IsAprox'] = X_test.apply(isAprox, axis=1)\n",
    "# X.tail()"
   ]
  },
  {
   "cell_type": "code",
   "execution_count": null,
   "metadata": {},
   "outputs": [],
   "source": [
    "# num_X_train['IsAprox'].unique()"
   ]
  },
  {
   "cell_type": "code",
   "execution_count": null,
   "metadata": {},
   "outputs": [],
   "source": [
    "# num_X_train.info()"
   ]
  },
  {
   "cell_type": "code",
   "execution_count": null,
   "metadata": {},
   "outputs": [],
   "source": [
    "# num_X_train.head()"
   ]
  },
  {
   "cell_type": "code",
   "execution_count": null,
   "metadata": {},
   "outputs": [],
   "source": [
    "# num_X_valid.info()"
   ]
  },
  {
   "cell_type": "code",
   "execution_count": null,
   "metadata": {},
   "outputs": [],
   "source": [
    "# num_X_train.shape\n",
    "# y_train.shape"
   ]
  },
  {
   "cell_type": "code",
   "execution_count": null,
   "metadata": {},
   "outputs": [],
   "source": [
    "# cat_X_train = X_train[categorical_cols].copy()\n",
    "# cat_X_valid = X_valid[categorical_cols].copy()\n",
    "# cat_X_test = X_test[categorical_cols].copy()"
   ]
  },
  {
   "cell_type": "code",
   "execution_count": null,
   "metadata": {},
   "outputs": [],
   "source": [
    "# cat_X_train.info()"
   ]
  },
  {
   "cell_type": "code",
   "execution_count": null,
   "metadata": {},
   "outputs": [],
   "source": [
    "# cat_X_train.head()"
   ]
  },
  {
   "cell_type": "code",
   "execution_count": null,
   "metadata": {},
   "outputs": [],
   "source": [
    "# cat_X_train.shape"
   ]
  },
  {
   "cell_type": "markdown",
   "metadata": {},
   "source": [
    "### Categorical Encoding"
   ]
  },
  {
   "cell_type": "code",
   "execution_count": 9,
   "metadata": {},
   "outputs": [],
   "source": [
    "cat_X_train = X_train[categorical_cols].copy()\n",
    "cat_X_valid = X_valid[categorical_cols].copy()\n",
    "cat_X_test = X_test[categorical_cols].copy()\n",
    "\n",
    "\n",
    "from sklearn.preprocessing import OneHotEncoder\n",
    "\n",
    "# Apply one-hot encoder to each column with categorical data\n",
    "OH_encoder = OneHotEncoder(handle_unknown='ignore', sparse=False)\n",
    "\n",
    "OH_X_train = pd.DataFrame(OH_encoder.fit_transform(cat_X_train))\n",
    "OH_X_valid = pd.DataFrame(OH_encoder.transform(cat_X_valid))\n",
    "OH_X_test = pd.DataFrame(OH_encoder.transform(cat_X_test))\n",
    "\n",
    "# One-hot encoding removed index; put it back\n",
    "OH_X_train.index = cat_X_train.index\n",
    "OH_X_valid.index = cat_X_valid.index\n",
    "OH_X_test.index = cat_X_test.index"
   ]
  },
  {
   "cell_type": "code",
   "execution_count": null,
   "metadata": {},
   "outputs": [],
   "source": [
    "# print(OH_X_train.shape)\n",
    "# print(num_X_train.shape)"
   ]
  },
  {
   "cell_type": "code",
   "execution_count": null,
   "metadata": {},
   "outputs": [],
   "source": [
    "# OH_X_train.info()\n",
    "# OH_X_train.head()\n",
    "# num_X_train.head()"
   ]
  },
  {
   "cell_type": "code",
   "execution_count": null,
   "metadata": {},
   "outputs": [],
   "source": [
    "# OH_X_train.head()"
   ]
  },
  {
   "cell_type": "code",
   "execution_count": 10,
   "metadata": {},
   "outputs": [],
   "source": [
    "all_X_train = pd.concat([num_X_train, OH_X_train], axis=1)\n",
    "all_X_valid = pd.concat([num_X_valid, OH_X_valid], axis=1)\n",
    "all_X_test = pd.concat([num_X_test, OH_X_test], axis=1)\n",
    "# all_X_test.head()"
   ]
  },
  {
   "cell_type": "code",
   "execution_count": null,
   "metadata": {},
   "outputs": [],
   "source": [
    "# all_X_train.head()"
   ]
  },
  {
   "cell_type": "code",
   "execution_count": null,
   "metadata": {},
   "outputs": [],
   "source": [
    "# all_X_train.tail()"
   ]
  },
  {
   "cell_type": "code",
   "execution_count": null,
   "metadata": {},
   "outputs": [],
   "source": [
    "# all_X_train.shape"
   ]
  },
  {
   "cell_type": "code",
   "execution_count": null,
   "metadata": {},
   "outputs": [],
   "source": [
    "# new_df = pd.concat([all_X_train, y_train], axis=1)\n",
    "# new_df.head()"
   ]
  },
  {
   "cell_type": "code",
   "execution_count": null,
   "metadata": {},
   "outputs": [],
   "source": [
    "# corr_matrix = new_df.corr()\n",
    "# corr_matrix['Survived'].sort_values(ascending=False)"
   ]
  },
  {
   "cell_type": "markdown",
   "metadata": {},
   "source": [
    "### Defining the model"
   ]
  },
  {
   "cell_type": "code",
   "execution_count": 11,
   "metadata": {},
   "outputs": [],
   "source": [
    "# ### Definindo o modelo\n",
    "from xgboost import XGBClassifier\n",
    "\n",
    "# # Define the model\n",
    "model = XGBClassifier(objective ='binary:logistic', n_estimators=1000, learning_rate=0.05) "
   ]
  },
  {
   "cell_type": "code",
   "execution_count": null,
   "metadata": {},
   "outputs": [],
   "source": [
    "# all_X_train.shape"
   ]
  },
  {
   "cell_type": "code",
   "execution_count": null,
   "metadata": {},
   "outputs": [],
   "source": [
    "# y_train.shape"
   ]
  },
  {
   "cell_type": "markdown",
   "metadata": {},
   "source": [
    "### Training the model"
   ]
  },
  {
   "cell_type": "code",
   "execution_count": 12,
   "metadata": {},
   "outputs": [
    {
     "data": {
      "text/plain": [
       "XGBClassifier(base_score=0.5, booster='gbtree', colsample_bylevel=1,\n",
       "              colsample_bynode=1, colsample_bytree=1, gamma=0,\n",
       "              learning_rate=0.05, max_delta_step=0, max_depth=3,\n",
       "              min_child_weight=1, missing=None, n_estimators=1000, n_jobs=1,\n",
       "              nthread=None, objective='binary:logistic', random_state=0,\n",
       "              reg_alpha=0, reg_lambda=1, scale_pos_weight=1, seed=None,\n",
       "              silent=None, subsample=1, verbosity=1)"
      ]
     },
     "execution_count": 12,
     "metadata": {},
     "output_type": "execute_result"
    }
   ],
   "source": [
    "model.fit(all_X_train, y_train)\n",
    "\n",
    "# preds_test = model.predict(OH_imputed_X_test)"
   ]
  },
  {
   "cell_type": "markdown",
   "metadata": {},
   "source": [
    "### Evaluating"
   ]
  },
  {
   "cell_type": "code",
   "execution_count": 13,
   "metadata": {},
   "outputs": [
    {
     "data": {
      "text/plain": [
       "0.23595505617977527"
      ]
     },
     "execution_count": 13,
     "metadata": {},
     "output_type": "execute_result"
    }
   ],
   "source": [
    "from sklearn.metrics import mean_absolute_error\n",
    "\n",
    "predicted_survival = model.predict(all_X_valid)\n",
    "mean_absolute_error(y_valid, predicted_survival)"
   ]
  },
  {
   "cell_type": "markdown",
   "metadata": {},
   "source": [
    "### Generating predictions"
   ]
  },
  {
   "cell_type": "code",
   "execution_count": 14,
   "metadata": {},
   "outputs": [],
   "source": [
    "# # Preprocessing of test data, fit model\n",
    "preds_test = model.predict(all_X_test) \n",
    "\n",
    "output = pd.DataFrame({'PassengerId': all_X_test.index, 'Survived': preds_test})\n",
    "output.to_csv('output/submission.csv', index=False)"
   ]
  },
  {
   "cell_type": "markdown",
   "metadata": {},
   "source": [
    "### Next Steps"
   ]
  },
  {
   "cell_type": "markdown",
   "metadata": {},
   "source": [
    "* Cabin number and Ticket may have more information, depending on how they built those features. It needs further investigation."
   ]
  },
  {
   "cell_type": "code",
   "execution_count": null,
   "metadata": {},
   "outputs": [],
   "source": []
  }
 ],
 "metadata": {
  "kernelspec": {
   "display_name": "Python 3",
   "language": "python",
   "name": "python3"
  },
  "language_info": {
   "codemirror_mode": {
    "name": "ipython",
    "version": 3
   },
   "file_extension": ".py",
   "mimetype": "text/x-python",
   "name": "python",
   "nbconvert_exporter": "python",
   "pygments_lexer": "ipython3",
   "version": "3.7.4"
  }
 },
 "nbformat": 4,
 "nbformat_minor": 4
}
